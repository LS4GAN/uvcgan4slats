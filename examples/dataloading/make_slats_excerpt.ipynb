{
 "cells": [
  {
   "cell_type": "code",
   "execution_count": 1,
   "metadata": {},
   "outputs": [],
   "source": [
    "import shutil\n",
    "from pathlib import Path"
   ]
  },
  {
   "cell_type": "code",
   "execution_count": 2,
   "metadata": {},
   "outputs": [],
   "source": [
    "DATAROOT = Path('/data/datasets/uvcgan4slats_test/uvcgan4slats_data/slats/slats_tiles/')\n",
    "TARGET_FOLDER = Path('./data/slats_tiles_excerpt')\n",
    "\n",
    "splits = ['train', 'test']\n",
    "domain_map = {'fake': 'A', 'real': 'B'}\n",
    "\n",
    "if not TARGET_FOLDER.exists():\n",
    "    TARGET_FOLDER.mkdir(parents=True)\n",
    "    for split in splits:\n",
    "        (TARGET_FOLDER/split).mkdir()\n",
    "        for val in domain_map.values():\n",
    "            (TARGET_FOLDER/split/val).mkdir()"
   ]
  },
  {
   "cell_type": "code",
   "execution_count": 3,
   "metadata": {},
   "outputs": [],
   "source": [
    "fnames = {split: list((DATAROOT/split/'fake').glob('*npz')) for split in splits}"
   ]
  },
  {
   "cell_type": "code",
   "execution_count": 5,
   "metadata": {},
   "outputs": [],
   "source": [
    "num_samples = 100\n",
    "for split in splits:    \n",
    "    for fname in fnames[split][:num_samples]:\n",
    "        name = fname.name\n",
    "        for key, val in domain_map.items():\n",
    "            src = fname.parents[1]/key/name\n",
    "            tgt = TARGET_FOLDER/split/val/name\n",
    "            shutil.copy(src, tgt)"
   ]
  }
 ],
 "metadata": {
  "kernelspec": {
   "display_name": "Python 3",
   "language": "python",
   "name": "python3"
  },
  "language_info": {
   "codemirror_mode": {
    "name": "ipython",
    "version": 3
   },
   "file_extension": ".py",
   "mimetype": "text/x-python",
   "name": "python",
   "nbconvert_exporter": "python",
   "pygments_lexer": "ipython3",
   "version": "3.8.5"
  }
 },
 "nbformat": 4,
 "nbformat_minor": 4
}
